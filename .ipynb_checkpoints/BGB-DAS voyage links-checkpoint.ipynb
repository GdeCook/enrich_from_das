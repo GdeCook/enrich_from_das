{
 "cells": [
  {
   "cell_type": "markdown",
   "metadata": {},
   "source": [
    "# BGB-DAS voyage links\n",
    "\n",
    "*Gerhard de Kok*\n"
   ]
  },
  {
   "cell_type": "code",
   "execution_count": 3,
   "metadata": {},
   "outputs": [],
   "source": [
    "# Import necessary modules\n",
    "import pandas as pd\n",
    "import difflib\n",
    "\n",
    "def within_range(checknumber, range_start, range_end):\n",
    "    \"\"\"\" \n",
    "    Function to check if a BGB booking year falls within the timespan\n",
    "    in DAS referred to in the introduction to this script\n",
    "    \n",
    "    \"\"\"\n",
    "    if (checknumber >= range_start) & (checknumber <= (range_end + 20)):\n",
    "        return True\n",
    "    else:\n",
    "        return False"
   ]
  },
  {
   "cell_type": "code",
   "execution_count": null,
   "metadata": {},
   "outputs": [],
   "source": [
    "# First, load the entire BGB database and the DAS database (Excel format)\n",
    "bgb = pd.ExcelFile('bgb.xlsx')\n",
    "das = pd.ExcelFile('das.xlsx')\n",
    "\n",
    "# Parse the Excel sheets we will be using from BGB\n",
    "# For the bgb_relations dataframe, some operations are needed to convert IDs to integers\n",
    "bgb_ships = bgb.parse('bgb_ship')\n",
    "bgb_ships = bgb_ships.set_index('id')\n",
    "bgb_relations = bgb.parse('bgb_relVoyageShip')\n",
    "bgb_relations.dropna(subset=['voyId'], how='all', inplace=True)\n",
    "bgb_relations['voyId'] = pd.to_numeric(bgb_relations['voyId'], downcast='integer', errors='coerce')\n",
    "bgb_relations = bgb_relations.set_index('id')\n",
    "bgb_voyages = bgb.parse('bgb_voyage')\n",
    "bgb_voyages = bgb_voyages.set_index('voyId')\n",
    "\n",
    "# From DAS, we need the list of ship names ...\n",
    "# ... and the years between which these ships were employed by the VOC\n",
    "das_ships = das.parse('shipNameVariant')\n",
    "das_ships = das_ships.set_index('shipNameVariantID')\n",
    "das_voyages = das.parse('das_voyage')\n",
    "das_voyages = das_voyages.set_index('voyId')"
   ]
  },
  {
   "cell_type": "code",
   "execution_count": null,
   "metadata": {},
   "outputs": [],
   "source": [
    "das_ships"
   ]
  }
 ],
 "metadata": {
  "kernelspec": {
   "display_name": "Python 3",
   "language": "python",
   "name": "python3"
  },
  "language_info": {
   "codemirror_mode": {
    "name": "ipython",
    "version": 3
   },
   "file_extension": ".py",
   "mimetype": "text/x-python",
   "name": "python",
   "nbconvert_exporter": "python",
   "pygments_lexer": "ipython3",
   "version": "3.8.5"
  }
 },
 "nbformat": 4,
 "nbformat_minor": 4
}
