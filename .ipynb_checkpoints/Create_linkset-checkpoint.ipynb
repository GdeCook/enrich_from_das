{
 "cells": [
  {
   "cell_type": "code",
   "execution_count": 1,
   "metadata": {},
   "outputs": [],
   "source": [
    "import pandas as pd"
   ]
  },
  {
   "cell_type": "code",
   "execution_count": 2,
   "metadata": {},
   "outputs": [],
   "source": [
    "# Import the necessary files\n",
    "\n",
    "# The DAS dataset\n",
    "das = pd.ExcelFile('das.xlsx')\n",
    "\n",
    "# The results of matching BGB shipvoyages to DAS ship IDs (see separate script 'BGB-voyages to DAS ship IDs')\n",
    "daslinks = pd.ExcelFile('Matching_results.xlsx')\n",
    "daslinkset = daslinks.parse('Matches')\n",
    "dasships = das.parse('ship')\n",
    "\n",
    "# The results of matching GZB musterings to DAS ship IDs (see separate script 'Remaining BGB and GZM ships')\n",
    "zeemons = pd.read_pickle('zeemons.pkl')\n",
    "\n",
    "# The preliminary linkset of BGB and GZM ships that were not matched to a DAS ship (see separate script 'Remaining BGB and GZM ships')\n",
    "prel_linkset = pd.read_pickle('prel_linkset.pkl')"
   ]
  },
  {
   "cell_type": "code",
   "execution_count": 3,
   "metadata": {},
   "outputs": [],
   "source": [
    "# Create a list with DAS ship IDs and corresponding BGB shipvoyages\n",
    "matching_dict = {}\n",
    "\n",
    "# Loop over all unique DAS ships\n",
    "for ship in dasships.index:\n",
    "    das_id = dasships.loc[ship, 'shipID']\n",
    "    \n",
    "    # Create entry in dict for this DAS ship\n",
    "    matching_dict[das_id] = {}\n",
    "    \n",
    "    # Lookup matches in BGB and for each match the rule on which the match is based (see original script)\n",
    "    matches = daslinkset['BGB Shipvoyage ID'].loc[daslinkset['DAS shipname ID'] == das_id]\n",
    "    rules = daslinkset['Matched based on rule'].loc[daslinkset['DAS shipname ID'] == das_id]\n",
    "    \n",
    "    # Create entry for keeping BGB links for this DAS ship\n",
    "    matching_dict[das_id]['BGB'] = []\n",
    "    \n",
    "    # Append all BGB matches to dict (with corresponding rules in brackets)\n",
    "    for match in zip(matches, rules):\n",
    "        matching_dict[das_id]['BGB'].append(str(match[0]) + \" (\" + str(match[1]) + \")\")\n",
    "        \n",
    "    # And do the same for the GZM (loopup matches and append them to dict)\n",
    "    gzm_match = zeemons['GZM SHIP ID'].loc[zeemons['DAS SHIP ID'] == das_id]\n",
    "    matching_dict[das_id]['GZM'] = []\n",
    "    for gzm in gzm_match:\n",
    "        matching_dict[das_id]['GZM'].append(gzm)\n",
    "\n",
    "# Store results in dataframe\n",
    "allmatches = pd.DataFrame.from_dict(matching_dict, orient='index')"
   ]
  },
  {
   "cell_type": "code",
   "execution_count": 4,
   "metadata": {},
   "outputs": [],
   "source": [
    "# Convert linkset to use GLOB ship IDs\n",
    "complete_linkset = {}\n",
    "\n",
    "for match in allmatches.index:\n",
    "    \n",
    "    # Construct GLOB ship ID\n",
    "    glob_id = str(match)\n",
    "    glob_id = glob_id[-4:]\n",
    "    glob_id = int(glob_id)\n",
    "    \n",
    "    complete_linkset[glob_id] = {}\n",
    "    # Set GZM links\n",
    "    complete_linkset[glob_id]['GZM'] = []\n",
    "    for gzmlink in allmatches.loc[match, 'GZM']:\n",
    "        complete_linkset[glob_id]['GZM'].append(gzmlink)\n",
    "    \n",
    "    # Set BGB links\n",
    "    complete_linkset[glob_id]['BGB'] = []\n",
    "    for bgblink in allmatches.loc[match, 'BGB']:\n",
    "        complete_linkset[glob_id]['BGB'].append(bgblink)\n",
    "\n",
    "# Store results in a dataframe        \n",
    "newmatches = pd.DataFrame.from_dict(complete_linkset, orient='index')"
   ]
  },
  {
   "cell_type": "code",
   "execution_count": 5,
   "metadata": {},
   "outputs": [],
   "source": [
    "# Merge the results with the preliminary linkset from a previous script (see separate script 'Remaining BGB and GZM ships')\n",
    "# The preliminary set excluded ships with a DAS match (which we have now added)\n",
    "\n",
    "# Create an empty list to hold the links\n",
    "linklist = []\n",
    "\n",
    "# Loop over every ship in our linkset\n",
    "for globship in newmatches.index:\n",
    "        gzmlinks = newmatches.loc[globship, 'GZM']\n",
    "        bgblinks = newmatches.loc[globship, 'BGB']\n",
    "        linklist.append([globship, ';'.join(str(i) for i in gzmlinks), ';'.join(str(i) for i in bgblinks)])\n",
    "\n",
    "# Make a Dataframe\n",
    "das_linkset = pd.DataFrame.from_records(linklist, columns=['GLOB SHIP ID', 'GZM SHIP IDS', 'BGB SHIPVOYAGES'])   \n",
    "\n",
    "# Merge the preliminary linkset and the new linkset to form the final linkset\n",
    "linkset = pd.concat([das_linkset, prel_linkset], ignore_index=True)"
   ]
  },
  {
   "cell_type": "code",
   "execution_count": 6,
   "metadata": {},
   "outputs": [
    {
     "data": {
      "text/html": [
       "<div>\n",
       "<style scoped>\n",
       "    .dataframe tbody tr th:only-of-type {\n",
       "        vertical-align: middle;\n",
       "    }\n",
       "\n",
       "    .dataframe tbody tr th {\n",
       "        vertical-align: top;\n",
       "    }\n",
       "\n",
       "    .dataframe thead th {\n",
       "        text-align: right;\n",
       "    }\n",
       "</style>\n",
       "<table border=\"1\" class=\"dataframe\">\n",
       "  <thead>\n",
       "    <tr style=\"text-align: right;\">\n",
       "      <th></th>\n",
       "      <th>GLOB SHIP ID</th>\n",
       "      <th>GZM SHIP IDS</th>\n",
       "      <th>BGB SHIPVOYAGES</th>\n",
       "    </tr>\n",
       "  </thead>\n",
       "  <tbody>\n",
       "    <tr>\n",
       "      <th>0</th>\n",
       "      <td>1</td>\n",
       "      <td>2903;2996;3344;3381;3457;3863;3881;4024</td>\n",
       "      <td>7574 (2);7754 (2);7770 (2);7804 (2);7881 (2);7...</td>\n",
       "    </tr>\n",
       "    <tr>\n",
       "      <th>1</th>\n",
       "      <td>2</td>\n",
       "      <td>4662</td>\n",
       "      <td>3699 (1);3943 (1);4024 (2);4225 (2);4273 (1);4...</td>\n",
       "    </tr>\n",
       "    <tr>\n",
       "      <th>2</th>\n",
       "      <td>3</td>\n",
       "      <td></td>\n",
       "      <td></td>\n",
       "    </tr>\n",
       "    <tr>\n",
       "      <th>3</th>\n",
       "      <td>4</td>\n",
       "      <td>2704;2952</td>\n",
       "      <td>13772 (1);14137 (2);14520 (2);15347 (1);15446 ...</td>\n",
       "    </tr>\n",
       "    <tr>\n",
       "      <th>4</th>\n",
       "      <td>5</td>\n",
       "      <td></td>\n",
       "      <td></td>\n",
       "    </tr>\n",
       "    <tr>\n",
       "      <th>...</th>\n",
       "      <td>...</td>\n",
       "      <td>...</td>\n",
       "      <td>...</td>\n",
       "    </tr>\n",
       "    <tr>\n",
       "      <th>2851</th>\n",
       "      <td>2853</td>\n",
       "      <td></td>\n",
       "      <td>18537;18543</td>\n",
       "    </tr>\n",
       "    <tr>\n",
       "      <th>2852</th>\n",
       "      <td>2854</td>\n",
       "      <td>1302</td>\n",
       "      <td></td>\n",
       "    </tr>\n",
       "    <tr>\n",
       "      <th>2853</th>\n",
       "      <td>2855</td>\n",
       "      <td>3403</td>\n",
       "      <td></td>\n",
       "    </tr>\n",
       "    <tr>\n",
       "      <th>2854</th>\n",
       "      <td>2856</td>\n",
       "      <td>419;496;887;1034;1139;1279</td>\n",
       "      <td></td>\n",
       "    </tr>\n",
       "    <tr>\n",
       "      <th>2855</th>\n",
       "      <td>2857</td>\n",
       "      <td>344</td>\n",
       "      <td></td>\n",
       "    </tr>\n",
       "  </tbody>\n",
       "</table>\n",
       "<p>2856 rows × 3 columns</p>\n",
       "</div>"
      ],
      "text/plain": [
       "      GLOB SHIP ID                             GZM SHIP IDS  \\\n",
       "0                1  2903;2996;3344;3381;3457;3863;3881;4024   \n",
       "1                2                                     4662   \n",
       "2                3                                            \n",
       "3                4                                2704;2952   \n",
       "4                5                                            \n",
       "...            ...                                      ...   \n",
       "2851          2853                                            \n",
       "2852          2854                                     1302   \n",
       "2853          2855                                     3403   \n",
       "2854          2856               419;496;887;1034;1139;1279   \n",
       "2855          2857                                      344   \n",
       "\n",
       "                                        BGB SHIPVOYAGES  \n",
       "0     7574 (2);7754 (2);7770 (2);7804 (2);7881 (2);7...  \n",
       "1     3699 (1);3943 (1);4024 (2);4225 (2);4273 (1);4...  \n",
       "2                                                        \n",
       "3     13772 (1);14137 (2);14520 (2);15347 (1);15446 ...  \n",
       "4                                                        \n",
       "...                                                 ...  \n",
       "2851                                        18537;18543  \n",
       "2852                                                     \n",
       "2853                                                     \n",
       "2854                                                     \n",
       "2855                                                     \n",
       "\n",
       "[2856 rows x 3 columns]"
      ]
     },
     "execution_count": 6,
     "metadata": {},
     "output_type": "execute_result"
    }
   ],
   "source": [
    "linkset"
   ]
  },
  {
   "cell_type": "code",
   "execution_count": 7,
   "metadata": {},
   "outputs": [],
   "source": [
    "import rdflib\n",
    "from rdflib import Graph, Namespace, RDF, RDFS, URIRef, Literal, BNode, OWL, XSD, FOAF, PROV\n",
    "from rdflib.resource import Resource"
   ]
  },
  {
   "cell_type": "code",
   "execution_count": 8,
   "metadata": {},
   "outputs": [],
   "source": [
    "LINKSETS = Namespace(\"https://data.globalise.huygens.knaw.nl/id/linksets/\")\n",
    "SHIP = Namespace(\"https://data.globalise.huygens.knaw.nl/id/ship/\")\n",
    "GZM_SHIP = Namespace(\"https://data.globalise.huygens.knaw.nl/id/gzm/ship/\")\n",
    "BGB_SHIP = Namespace(\"https://data.globalise.huygens.knaw.nl/id/bgb/ship/\")"
   ]
  },
  {
   "cell_type": "code",
   "execution_count": 115,
   "metadata": {},
   "outputs": [],
   "source": [
    "g = Graph(identifier=LINKSETS.enrich_from_das + \"/\")\n",
    "\n",
    "for globship in linkset.index:\n",
    "    glob_ship_id = linkset.loc[globship, 'GLOB SHIP ID']\n",
    "    gzm_ids = linkset.loc[globship, 'GZM SHIP IDS']\n",
    "    bgb_ids = linkset.loc[globship, 'BGB SHIPVOYAGES']\n",
    "    \n",
    "    # Create GLOB ID resource\n",
    "    glob_ship_uri = URIRef(SHIP + str(globship)) \n",
    "    \n",
    "    for gzm_id in gzm_ids.split(';'):\n",
    "        if gzm_id:\n",
    "            gzm_ship_uri = URIRef(GZM_SHIP + str(gzm_id))\n",
    "           \n",
    "            g.add((gzm_ship_uri, OWL.sameAs, glob_ship_uri))\n",
    "            \n",
    "            statement_id = BNode()       \n",
    "            g.add((statement_id, RDF.type, RDF.Statement))\n",
    "            g.add((statement_id, RDF.subject, gzm_ship_uri))\n",
    "            g.add((statement_id, RDF.predicate, OWL.sameAs))\n",
    "            g.add((statement_id, RDF.object, glob_ship_uri))\n",
    "            g.add((statement_id, PROV.wasDerivedFrom, URIRef(\"https://github.com/globalise-huygens/enrich_from_das/blob/4c34d29560ab644c1aa1a029ca640446aff92dcc/Remaining%20BGB%20and%20GZM%20ships.ipynb\")))      \n",
    "    \n",
    "    for bgb_id in bgb_ids.split(';'):\n",
    "        if bgb_id:\n",
    "            rule = 0\n",
    "            if '(' in bgb_id:\n",
    "                temp = bgb_id.split(' (')\n",
    "                bgb_id = temp[0]\n",
    "                rule = temp[1].rstrip(')')\n",
    "\n",
    "            bgb_ship_uri = URIRef(BGB_SHIP + str(bgb_id))\n",
    "\n",
    "            g.add((bgb_ship_uri, OWL.sameAs, glob_ship_uri))\n",
    "\n",
    "            statement_id = BNode()       \n",
    "            g.add((statement_id, RDF.type, RDF.Statement))\n",
    "            g.add((statement_id, RDF.subject, bgb_ship_uri))\n",
    "            g.add((statement_id, RDF.predicate, OWL.sameAs))\n",
    "            g.add((statement_id, RDF.object, glob_ship_uri))\n",
    "\n",
    "            if rule == '1':\n",
    "                g.add((statement_id, PROV.wasDerivedFrom, URIRef(\"http://www.github.com/blabla#rule_1\")))   \n",
    "            if rule == '2':\n",
    "                g.add((statement_id, PROV.wasDerivedFrom, URIRef(\"http://www.github.com/blabla#rule_2\")))\n",
    "            else:\n",
    "                g.add((statement_id, PROV.wasDerivedFrom, URIRef(\"http://www.github.com/blabla\")))\n"
   ]
  },
  {
   "cell_type": "code",
   "execution_count": 116,
   "metadata": {},
   "outputs": [
    {
     "data": {
      "text/plain": [
       "136641"
      ]
     },
     "execution_count": 116,
     "metadata": {},
     "output_type": "execute_result"
    }
   ],
   "source": [
    "len(g)"
   ]
  },
  {
   "cell_type": "code",
   "execution_count": 117,
   "metadata": {},
   "outputs": [
    {
     "data": {
      "text/plain": [
       "<Graph identifier=https://data.globalise.huygens.knaw.nl/id/linksets/enrich_from_das/ (<class 'rdflib.graph.Graph'>)>"
      ]
     },
     "execution_count": 117,
     "metadata": {},
     "output_type": "execute_result"
    }
   ],
   "source": [
    "g.bind(\"ship\", SHIP)\n",
    "g.bind(\"gzm_ship\", GZM_SHIP)\n",
    "g.bind(\"bgb_ship\", BGB_SHIP)\n",
    "\n",
    "g.serialize(destination=\"test.trig\", format=\"trig\")"
   ]
  }
 ],
 "metadata": {
  "kernelspec": {
   "display_name": "Python 3",
   "language": "python",
   "name": "python3"
  },
  "language_info": {
   "codemirror_mode": {
    "name": "ipython",
    "version": 3
   },
   "file_extension": ".py",
   "mimetype": "text/x-python",
   "name": "python",
   "nbconvert_exporter": "python",
   "pygments_lexer": "ipython3",
   "version": "3.8.5"
  }
 },
 "nbformat": 4,
 "nbformat_minor": 4
}
